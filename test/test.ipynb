{
 "cells": [
  {
   "cell_type": "code",
   "execution_count": 14,
   "metadata": {},
   "outputs": [],
   "source": [
    "import chimeric_tools as ct"
   ]
  },
  {
   "cell_type": "code",
   "execution_count": 15,
   "metadata": {},
   "outputs": [
    {
     "name": "stdout",
     "output_type": "stream",
     "text": [
      "12\n",
      "13\n"
     ]
    }
   ],
   "source": [
    "from chimeric_tools import Spatial\n",
    "from chimeric_tools import Time\n",
    "print(Time.todayEpiWeek())\n"
   ]
  },
  {
   "cell_type": "code",
   "execution_count": 17,
   "metadata": {},
   "outputs": [
    {
     "name": "stdout",
     "output_type": "stream",
     "text": [
      "42\n"
     ]
    }
   ],
   "source": [
    "print(Spatial.fromState2FIPS(\"PA\"))"
   ]
  },
  {
   "cell_type": "code",
   "execution_count": 18,
   "metadata": {},
   "outputs": [
    {
     "name": "stdout",
     "output_type": "stream",
     "text": [
      "PA\n"
     ]
    }
   ],
   "source": [
    "print(Spatial.GetStateAbbreviation(\"Pennsylvania\"))"
   ]
  },
  {
   "cell_type": "code",
   "execution_count": 16,
   "metadata": {},
   "outputs": [
    {
     "name": "stdout",
     "output_type": "stream",
     "text": [
      "[4, 9, 13]\n"
     ]
    }
   ],
   "source": [
    "print(Time.fromDates2Epiweeks([\"2020-01-22\",\"2020-02-23\",\"2020-03-24\"]))"
   ]
  },
  {
   "cell_type": "code",
   "execution_count": null,
   "metadata": {},
   "outputs": [],
   "source": [
    "import covidcast\n",
    "from datetime import date\n",
    "data_7d = covidcast.signal(\"jhu-csse\", \"confirmed_7dav_incidence_num\", date(2020, 1, 1), date(2022, 6,8),\n",
    "                        \"state\", \"pa\")\n",
    "\n",
    "from datetime import date\n",
    "from matplotlib import pyplot as plt\n",
    "import pandas as pd\n",
    "# data = data.reset_index()\n",
    "plt.plot(data_7d.time_value, data_7d.value, label=\"confirmed_incidence_num\")\n",
    "data_7d.to_csv(\"covid_pa_confirmed_data_7d.csv\")"
   ]
  },
  {
   "cell_type": "code",
   "execution_count": null,
   "metadata": {},
   "outputs": [],
   "source": [
    "\n",
    "\n",
    "\n",
    "import covidcast\n",
    "from datetime import date\n",
    "abbrevation_states = [\"AL\", \"AK\", \"AZ\", \"AR\", \"CA\", \"CO\", \"CT\", \"DE\", \"FL\", \"GA\", \"HI\", \"ID\", \"IL\", \"IN\", \"IA\", \"KS\", \"KY\", \"LA\", \"ME\", \"MD\", \"MA\", \"MI\", \"MN\", \"MS\", \"MO\", \"MT\", \"NE\", \"NV\", \"NH\", \"NJ\", \"NM\", \"NY\", \"NC\", \"ND\", \"OH\", \"OK\", \"OR\", \"PA\", \"RI\", \"SC\", \"SD\", \"TN\", \"TX\", \"UT\", \"VT\", \"VA\", \"WA\", \"WV\", \"WI\", \"WY\"]\n",
    "lower_abbrevation_states = [state.lower() for state in abbrevation_states]\n",
    "\n",
    "for state in lower_abbrevation_states:\n",
    "    data = covidcast.signal(\"jhu-csse\", \"confirmed_7dav_incidence_num\", date(2020, 1, 1), date(2022, 6,8),\n",
    "                            \"state\", state)\n",
    "    data.to_csv(f\"../data/covid/confirmed_7day/state/{state}_2020_2022.csv\")\n"
   ]
  },
  {
   "cell_type": "code",
   "execution_count": 3,
   "metadata": {},
   "outputs": [
    {
     "data": {
      "text/html": [
       "<div>\n",
       "<style scoped>\n",
       "    .dataframe tbody tr th:only-of-type {\n",
       "        vertical-align: middle;\n",
       "    }\n",
       "\n",
       "    .dataframe tbody tr th {\n",
       "        vertical-align: top;\n",
       "    }\n",
       "\n",
       "    .dataframe thead th {\n",
       "        text-align: right;\n",
       "    }\n",
       "</style>\n",
       "<table border=\"1\" class=\"dataframe\">\n",
       "  <thead>\n",
       "    <tr style=\"text-align: right;\">\n",
       "      <th></th>\n",
       "      <th>geo_value</th>\n",
       "      <th>signal</th>\n",
       "      <th>time_value</th>\n",
       "      <th>issue</th>\n",
       "      <th>lag</th>\n",
       "      <th>missing_value</th>\n",
       "      <th>missing_stderr</th>\n",
       "      <th>missing_sample_size</th>\n",
       "      <th>value</th>\n",
       "      <th>stderr</th>\n",
       "      <th>sample_size</th>\n",
       "      <th>geo_type</th>\n",
       "      <th>data_source</th>\n",
       "    </tr>\n",
       "  </thead>\n",
       "  <tbody>\n",
       "    <tr>\n",
       "      <th>0</th>\n",
       "      <td>pa</td>\n",
       "      <td>confirmed_incidence_num</td>\n",
       "      <td>2022-05-01</td>\n",
       "      <td>2022-05-02</td>\n",
       "      <td>1</td>\n",
       "      <td>0</td>\n",
       "      <td>5</td>\n",
       "      <td>5</td>\n",
       "      <td>1448.0</td>\n",
       "      <td>None</td>\n",
       "      <td>None</td>\n",
       "      <td>state</td>\n",
       "      <td>jhu-csse</td>\n",
       "    </tr>\n",
       "    <tr>\n",
       "      <th>0</th>\n",
       "      <td>pa</td>\n",
       "      <td>confirmed_incidence_num</td>\n",
       "      <td>2022-05-02</td>\n",
       "      <td>2022-05-03</td>\n",
       "      <td>1</td>\n",
       "      <td>0</td>\n",
       "      <td>5</td>\n",
       "      <td>5</td>\n",
       "      <td>1466.0</td>\n",
       "      <td>None</td>\n",
       "      <td>None</td>\n",
       "      <td>state</td>\n",
       "      <td>jhu-csse</td>\n",
       "    </tr>\n",
       "    <tr>\n",
       "      <th>0</th>\n",
       "      <td>pa</td>\n",
       "      <td>confirmed_incidence_num</td>\n",
       "      <td>2022-05-03</td>\n",
       "      <td>2022-05-04</td>\n",
       "      <td>1</td>\n",
       "      <td>0</td>\n",
       "      <td>5</td>\n",
       "      <td>5</td>\n",
       "      <td>2134.0</td>\n",
       "      <td>None</td>\n",
       "      <td>None</td>\n",
       "      <td>state</td>\n",
       "      <td>jhu-csse</td>\n",
       "    </tr>\n",
       "    <tr>\n",
       "      <th>0</th>\n",
       "      <td>pa</td>\n",
       "      <td>confirmed_incidence_num</td>\n",
       "      <td>2022-05-04</td>\n",
       "      <td>2022-05-05</td>\n",
       "      <td>1</td>\n",
       "      <td>0</td>\n",
       "      <td>5</td>\n",
       "      <td>5</td>\n",
       "      <td>2615.0</td>\n",
       "      <td>None</td>\n",
       "      <td>None</td>\n",
       "      <td>state</td>\n",
       "      <td>jhu-csse</td>\n",
       "    </tr>\n",
       "    <tr>\n",
       "      <th>0</th>\n",
       "      <td>pa</td>\n",
       "      <td>confirmed_incidence_num</td>\n",
       "      <td>2022-05-05</td>\n",
       "      <td>2022-05-06</td>\n",
       "      <td>1</td>\n",
       "      <td>0</td>\n",
       "      <td>5</td>\n",
       "      <td>5</td>\n",
       "      <td>757.0</td>\n",
       "      <td>None</td>\n",
       "      <td>None</td>\n",
       "      <td>state</td>\n",
       "      <td>jhu-csse</td>\n",
       "    </tr>\n",
       "    <tr>\n",
       "      <th>0</th>\n",
       "      <td>pa</td>\n",
       "      <td>confirmed_incidence_num</td>\n",
       "      <td>2022-05-06</td>\n",
       "      <td>2022-05-07</td>\n",
       "      <td>1</td>\n",
       "      <td>0</td>\n",
       "      <td>5</td>\n",
       "      <td>5</td>\n",
       "      <td>388.0</td>\n",
       "      <td>None</td>\n",
       "      <td>None</td>\n",
       "      <td>state</td>\n",
       "      <td>jhu-csse</td>\n",
       "    </tr>\n",
       "    <tr>\n",
       "      <th>0</th>\n",
       "      <td>pa</td>\n",
       "      <td>confirmed_incidence_num</td>\n",
       "      <td>2022-05-07</td>\n",
       "      <td>2022-05-08</td>\n",
       "      <td>1</td>\n",
       "      <td>0</td>\n",
       "      <td>5</td>\n",
       "      <td>5</td>\n",
       "      <td>0.0</td>\n",
       "      <td>None</td>\n",
       "      <td>None</td>\n",
       "      <td>state</td>\n",
       "      <td>jhu-csse</td>\n",
       "    </tr>\n",
       "  </tbody>\n",
       "</table>\n",
       "</div>"
      ],
      "text/plain": [
       "  geo_value                   signal time_value      issue  lag  \\\n",
       "0        pa  confirmed_incidence_num 2022-05-01 2022-05-02    1   \n",
       "0        pa  confirmed_incidence_num 2022-05-02 2022-05-03    1   \n",
       "0        pa  confirmed_incidence_num 2022-05-03 2022-05-04    1   \n",
       "0        pa  confirmed_incidence_num 2022-05-04 2022-05-05    1   \n",
       "0        pa  confirmed_incidence_num 2022-05-05 2022-05-06    1   \n",
       "0        pa  confirmed_incidence_num 2022-05-06 2022-05-07    1   \n",
       "0        pa  confirmed_incidence_num 2022-05-07 2022-05-08    1   \n",
       "\n",
       "   missing_value  missing_stderr  missing_sample_size   value stderr  \\\n",
       "0              0               5                    5  1448.0   None   \n",
       "0              0               5                    5  1466.0   None   \n",
       "0              0               5                    5  2134.0   None   \n",
       "0              0               5                    5  2615.0   None   \n",
       "0              0               5                    5   757.0   None   \n",
       "0              0               5                    5   388.0   None   \n",
       "0              0               5                    5     0.0   None   \n",
       "\n",
       "  sample_size geo_type data_source  \n",
       "0        None    state    jhu-csse  \n",
       "0        None    state    jhu-csse  \n",
       "0        None    state    jhu-csse  \n",
       "0        None    state    jhu-csse  \n",
       "0        None    state    jhu-csse  \n",
       "0        None    state    jhu-csse  \n",
       "0        None    state    jhu-csse  "
      ]
     },
     "execution_count": 3,
     "metadata": {},
     "output_type": "execute_result"
    }
   ],
   "source": [
    "import covidcast\n",
    "from datetime import date\n",
    "data = covidcast.signal(\"jhu-csse\", \"confirmed_incidence_num\", date(2020, 1, 1), date(2022, 6,),\n",
    "                        \"state\", \"pa\")\n",
    "\n",
    "data"
   ]
  },
  {
   "cell_type": "code",
   "execution_count": 5,
   "metadata": {},
   "outputs": [],
   "source": [
    "data.to_csv(\"pa_covid_confirmed.csv\")"
   ]
  }
 ],
 "metadata": {
  "interpreter": {
   "hash": "7a3d88c904243d2c3f246166597f86d1c0a39f3d97496d1fe394945d0c6d436d"
  },
  "kernelspec": {
   "display_name": "Python 3.7.9 64-bit",
   "language": "python",
   "name": "python3"
  },
  "language_info": {
   "codemirror_mode": {
    "name": "ipython",
    "version": 3
   },
   "file_extension": ".py",
   "mimetype": "text/x-python",
   "name": "python",
   "nbconvert_exporter": "python",
   "pygments_lexer": "ipython3",
   "version": "3.7.9"
  },
  "orig_nbformat": 4
 },
 "nbformat": 4,
 "nbformat_minor": 2
}
