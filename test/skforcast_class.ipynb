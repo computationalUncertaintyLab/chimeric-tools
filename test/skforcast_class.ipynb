{
 "cells": [
  {
   "cell_type": "code",
   "execution_count": 7,
   "metadata": {},
   "outputs": [
    {
     "name": "stderr",
     "output_type": "stream",
     "text": [
      "/Users/vincent/Desktop/RA/chimeric-tools/src/chimeric_tools/Data.py:95: DtypeWarning: Columns (0) have mixed types. Specify dtype option on import or set low_memory=False.\n",
      "  data = pd.read_csv(stream, compression=\"gzip\")\n",
      "/Users/vincent/Desktop/RA/chimeric-tools/src/chimeric_tools/Data.py:113: DtypeWarning: Columns (0) have mixed types. Specify dtype option on import or set low_memory=False.\n",
      "  data = pd.read_csv(stream, compression=\"gzip\")\n",
      "/Users/vincent/Desktop/RA/chimeric-tools/src/chimeric_tools/Data.py:131: DtypeWarning: Columns (0) have mixed types. Specify dtype option on import or set low_memory=False.\n",
      "  data = pd.read_csv(stream, compression=\"gzip\")\n",
      "/Users/vincent/Desktop/RA/chimeric-tools/src/chimeric_tools/Data.py:95: DtypeWarning: Columns (0) have mixed types. Specify dtype option on import or set low_memory=False.\n",
      "  data = pd.read_csv(stream, compression=\"gzip\")\n",
      "/Users/vincent/Desktop/RA/chimeric-tools/src/chimeric_tools/Data.py:113: DtypeWarning: Columns (0) have mixed types. Specify dtype option on import or set low_memory=False.\n",
      "  data = pd.read_csv(stream, compression=\"gzip\")\n",
      "/Users/vincent/Desktop/RA/chimeric-tools/src/chimeric_tools/Data.py:131: DtypeWarning: Columns (0) have mixed types. Specify dtype option on import or set low_memory=False.\n",
      "  data = pd.read_csv(stream, compression=\"gzip\")\n"
     ]
    }
   ],
   "source": [
    "import numpy as np\n",
    "import pandas as pd\n",
    "import matplotlib.pyplot as plt\n",
    "from skforecast.ForecasterAutoregMultiOutput import ForecasterAutoregMultiOutput\n",
    "from sklearn.linear_model import Ridge\n",
    "from sklearn.metrics import mean_squared_error\n",
    "from chimeric_tools.Data import covid_data\n",
    "from skforecast.ForecasterAutoreg import ForecasterAutoreg\n",
    "from skforecast.model_selection import grid_search_forecaster\n",
    "from sklearn.ensemble import RandomForestRegressor\n",
    "from scipy.stats import norm\n",
    "class skforcast:\n",
    "    def __init__(self, model = None, load = False, path = None, location = None ,target = None, time_freq = 'W',step = 0.1,quantial = None):\n",
    "        if target == \"cases\":\n",
    "            self.quantial = [2.5,10,25,50,75,90,95,97.5]\n",
    "            self.quantial = [0.025,0.100,0.250,0.500,0.750,0.900,0.975]\n",
    "        else:\n",
    "            self.quantial = [0.010,0.025,0.050,0.100,0.150,0.200,0.250,0.300,0.350,0.400,0.450,0.500,0.550,0.600,0.650,0.700,0.750,0.800,0.850,0.900,0.950,0.975,0.990]\n",
    "        if load:\n",
    "            self.model = self.load_model(path)\n",
    "        self.location = location\n",
    "        self.data = covid_data(geo_values=[location])\n",
    "        self.data = self.format_data(self.data,time_freq)\n",
    "        self.train_data, self.val_data = self.divide_data(self.data,step)\n",
    "        # print(len(self.train_data),len(self.val_data),len(self.data))\n",
    "        self.train_label = self.train_data[target]\n",
    "        self.val_label = self.val_data[target]\n",
    "        self.target = target\n",
    "        self.time_freq = time_freq\n",
    "        self.model = self.train_model(self.train_data)\n",
    "\n",
    "    def load_model(self, path):\n",
    "        import pickle\n",
    "        import joblib\n",
    "        if path is None:\n",
    "            raise ValueError(\"Path is not defined\")\n",
    "        else:\n",
    "            return joblib.load(path)\n",
    "    def format_data(self, data,time_freq):\n",
    "        data['time_value'] = pd.to_datetime(data['date'], format='%Y-%m-%d')\n",
    "\n",
    "        data = data.set_index(\"time_value\")\n",
    "        data = data.asfreq(time_freq)\n",
    "        data = data.sort_index()\n",
    "        return data\n",
    "    def divide_data(self, data,step):\n",
    "        train_data = data.iloc[:1-int(len(data)*step)]\n",
    "        val_data = data.iloc[1-int(len(data)*step):]\n",
    "        return train_data, val_data\n",
    "    def train_model(self, train_data):\n",
    "        from xgboost import XGBRegressor\n",
    "        #  Create and fit forecaster\n",
    "        # ==============================================================================\n",
    "        forecaster = ForecasterAutoreg(\n",
    "                    # regressor = RandomForestRegressor(random_state=0),\n",
    "                    regressor = XGBRegressor(random_state=123),\n",
    "                    # regressor = Ridge(),\n",
    "                    lags      = 15\n",
    "                )\n",
    "        forecaster.fit(y=train_data[self.target])\n",
    "        # Lags used as predictors\n",
    "        # lags_grid = [10, 20]\n",
    "\n",
    "        # # Regressor's hyperparameters\n",
    "        # param_grid = {'n_estimators': [100, 500],\n",
    "        #             'max_depth': [3, 5, 10]}\n",
    "\n",
    "        # results_grid = grid_search_forecaster(\n",
    "        #                         forecaster         = forecaster,\n",
    "        #                         y                  = self.data['cases'],\n",
    "        #                         param_grid         = param_grid,\n",
    "        #                         lags_grid          = lags_grid,\n",
    "        #                         steps              = len(train_data),\n",
    "        #                         refit              = True,\n",
    "        #                         metric             = 'mean_squared_error',\n",
    "        #                         initial_train_size = int(len(train_data)*0.5),\n",
    "        #                         fixed_train_size   = False,\n",
    "        #                         return_best        = True,\n",
    "        #                         verbose            = False\n",
    "        #             )\n",
    "        return forecaster\n",
    "    def validate(self, val_data):\n",
    "        #  Predict on validation data\n",
    "        # ==============================================================================\n",
    "        y_pred = self.model.predict(steps = len(val_data))\n",
    "        #  Compute error\n",
    "        # ==============================================================================]\n",
    "        error = mean_squared_error(y_pred, val_data[self.target])\n",
    "        return error\n",
    "    def cal_sigma(self):\n",
    "        y_pred = self.model.predict(steps = len(self.val_data))\n",
    "        pair = np.array(list(zip(y_pred, self.val_data[self.target])))\n",
    "        sigma = np.std(pair)\n",
    "        return sigma\n",
    "\n",
    "    def predict(self, week_ahead):\n",
    "        #  Predict on validation data\n",
    "        # ==============================================================================\n",
    "        y_pred = self.model.predict(steps = len(self.val_data)+week_ahead)\n",
    "        return y_pred[-week_ahead:]\n",
    "    def predict_quantile(self,week_head):\n",
    "        y_pred = self.model.predict_interval(steps = len(self.val_data)+week_head,\n",
    "                                                interval = self.quantial)\n",
    "\n",
    "        return y_pred[-week_head:]\n",
    "    def plot_val(self):\n",
    "        #  Plot validation data\n",
    "        # ==============================================================================\n",
    "        plt.figure(figsize=(12, 8))\n",
    "        y_pred = self.model.predict(steps = len(self.val_data))\n",
    "        plt.plot(self.val_data[self.target], label='Actual')\n",
    "        plt.plot(y_pred, label='Predicted')\n",
    "        plt.legend()\n",
    "        plt.show()\n",
    "    def output_quantial(self,week_ahead):\n",
    "        miu_list = self.predict(week_ahead).values\n",
    "        sigma = self.cal_sigma()\n",
    "        ppf = []\n",
    "        forecaster_date = self.val_data['date'].iloc[-1]\n",
    "        location = self.location\n",
    "        for i in range(week_ahead):\n",
    "            ppf.append(norm.ppf(self.quantial,miu_list[i],sigma))\n",
    "        output = pd.DataFrame(columns=['forecast_date','target','target_end_date','location','type','quantile','value'])\n",
    "        for idx,ppf in enumerate(ppf):\n",
    "            quantial = self.quantial\n",
    "            for q,p in zip(quantial,ppf):\n",
    "                forecaster_date = forecaster_date\n",
    "                location = location\n",
    "                # tranform the upper charter to lower case\n",
    "                if self.time_freq == 'W':\n",
    "                    target = str(idx+1) +\" wk ahead inc case\"\n",
    "                else:\n",
    "                    target = str(idx+1) +\" day ahead inc case\"\n",
    "                target_end_date = self.val_data['date'].iloc[-1]+pd.Timedelta(weeks=idx+1)\n",
    "                type = \"point\"\n",
    "                quantial = q\n",
    "                value = p\n",
    "                #add the row to the dataframe\n",
    "                output.loc[len(output)] = [forecaster_date,target,target_end_date,location,type,quantial,value] \n",
    "                \n",
    "                # output = output.append({'forecast_date':forecaster_date,'target':target,'target_end_date':target_end_date,'location':location,'type':type,'quantile':quantial,'value':value},ignore_index=True)\n",
    "        output.to_csv(str(forecaster_date)+\"-\"+self.target+\".csv\",index=False)\n",
    "    \n",
    "    \n",
    "model = skforcast(location = \"42\",target = 'cases')\n",
    "# model_death = skforcast(location = \"42\",target = 'deaths')\n",
    "# model_hosps = skforcast(location = \"42\",target = 'hosps',time_freq='D')\n"
   ]
  },
  {
   "cell_type": "code",
   "execution_count": 8,
   "metadata": {},
   "outputs": [
    {
     "ename": "ValueError",
     "evalue": "Shape of passed values is (16, 8), indices imply (16, 3)",
     "output_type": "error",
     "traceback": [
      "\u001b[0;31m---------------------------------------------------------------------------\u001b[0m",
      "\u001b[0;31mValueError\u001b[0m                                Traceback (most recent call last)",
      "\u001b[1;32m/Users/vincent/Desktop/RA/chimeric-tools/test/skforcast_class.ipynb Cell 2\u001b[0m in \u001b[0;36m<cell line: 1>\u001b[0;34m()\u001b[0m\n\u001b[0;32m----> <a href='vscode-notebook-cell:/Users/vincent/Desktop/RA/chimeric-tools/test/skforcast_class.ipynb#ch0000004?line=0'>1</a>\u001b[0m model\u001b[39m.\u001b[39;49mpredict_quantile(\u001b[39m4\u001b[39;49m)\n",
      "\u001b[1;32m/Users/vincent/Desktop/RA/chimeric-tools/test/skforcast_class.ipynb Cell 2\u001b[0m in \u001b[0;36mskforcast.predict_quantile\u001b[0;34m(self, week_head)\u001b[0m\n\u001b[1;32m    <a href='vscode-notebook-cell:/Users/vincent/Desktop/RA/chimeric-tools/test/skforcast_class.ipynb#ch0000004?line=100'>101</a>\u001b[0m \u001b[39mdef\u001b[39;00m \u001b[39mpredict_quantile\u001b[39m(\u001b[39mself\u001b[39m,week_head):\n\u001b[0;32m--> <a href='vscode-notebook-cell:/Users/vincent/Desktop/RA/chimeric-tools/test/skforcast_class.ipynb#ch0000004?line=101'>102</a>\u001b[0m     y_pred \u001b[39m=\u001b[39m \u001b[39mself\u001b[39;49m\u001b[39m.\u001b[39;49mmodel\u001b[39m.\u001b[39;49mpredict_interval(steps \u001b[39m=\u001b[39;49m \u001b[39mlen\u001b[39;49m(\u001b[39mself\u001b[39;49m\u001b[39m.\u001b[39;49mval_data)\u001b[39m+\u001b[39;49mweek_head,\n\u001b[1;32m    <a href='vscode-notebook-cell:/Users/vincent/Desktop/RA/chimeric-tools/test/skforcast_class.ipynb#ch0000004?line=102'>103</a>\u001b[0m                                             interval \u001b[39m=\u001b[39;49m \u001b[39mself\u001b[39;49m\u001b[39m.\u001b[39;49mquantial)\n\u001b[1;32m    <a href='vscode-notebook-cell:/Users/vincent/Desktop/RA/chimeric-tools/test/skforcast_class.ipynb#ch0000004?line=104'>105</a>\u001b[0m     \u001b[39mreturn\u001b[39;00m y_pred[\u001b[39m-\u001b[39mweek_head:]\n",
      "File \u001b[0;32m~/opt/anaconda3/lib/python3.9/site-packages/skforecast/ForecasterAutoreg/ForecasterAutoreg.py:763\u001b[0m, in \u001b[0;36mForecasterAutoreg.predict_interval\u001b[0;34m(self, steps, last_window, exog, interval, n_boot, random_state, in_sample_residuals)\u001b[0m\n\u001b[1;32m    751\u001b[0m predictions_interval \u001b[39m=\u001b[39m \u001b[39mself\u001b[39m\u001b[39m.\u001b[39m_estimate_boot_interval(\n\u001b[1;32m    752\u001b[0m                             steps       \u001b[39m=\u001b[39m steps,\n\u001b[1;32m    753\u001b[0m                             last_window \u001b[39m=\u001b[39m copy(last_window_values_original),\n\u001b[0;32m   (...)\u001b[0m\n\u001b[1;32m    758\u001b[0m                             in_sample_residuals \u001b[39m=\u001b[39m in_sample_residuals\n\u001b[1;32m    759\u001b[0m                         )\n\u001b[1;32m    761\u001b[0m predictions \u001b[39m=\u001b[39m np\u001b[39m.\u001b[39mcolumn_stack((predictions, predictions_interval))\n\u001b[0;32m--> 763\u001b[0m predictions \u001b[39m=\u001b[39m pd\u001b[39m.\u001b[39;49mDataFrame(\n\u001b[1;32m    764\u001b[0m                 data \u001b[39m=\u001b[39;49m predictions,\n\u001b[1;32m    765\u001b[0m                 index \u001b[39m=\u001b[39;49m expand_index(\n\u001b[1;32m    766\u001b[0m                             index \u001b[39m=\u001b[39;49m last_window_index,\n\u001b[1;32m    767\u001b[0m                             steps \u001b[39m=\u001b[39;49m steps\n\u001b[1;32m    768\u001b[0m                         ),\n\u001b[1;32m    769\u001b[0m                 columns \u001b[39m=\u001b[39;49m [\u001b[39m'\u001b[39;49m\u001b[39mpred\u001b[39;49m\u001b[39m'\u001b[39;49m, \u001b[39m'\u001b[39;49m\u001b[39mlower_bound\u001b[39;49m\u001b[39m'\u001b[39;49m, \u001b[39m'\u001b[39;49m\u001b[39mupper_bound\u001b[39;49m\u001b[39m'\u001b[39;49m]\n\u001b[1;32m    770\u001b[0m               )\n\u001b[1;32m    772\u001b[0m \u001b[39mreturn\u001b[39;00m predictions\n",
      "File \u001b[0;32m~/opt/anaconda3/lib/python3.9/site-packages/pandas/core/frame.py:695\u001b[0m, in \u001b[0;36mDataFrame.__init__\u001b[0;34m(self, data, index, columns, dtype, copy)\u001b[0m\n\u001b[1;32m    685\u001b[0m         mgr \u001b[39m=\u001b[39m dict_to_mgr(\n\u001b[1;32m    686\u001b[0m             \u001b[39m# error: Item \"ndarray\" of \"Union[ndarray, Series, Index]\" has no\u001b[39;00m\n\u001b[1;32m    687\u001b[0m             \u001b[39m# attribute \"name\"\u001b[39;00m\n\u001b[0;32m   (...)\u001b[0m\n\u001b[1;32m    692\u001b[0m             typ\u001b[39m=\u001b[39mmanager,\n\u001b[1;32m    693\u001b[0m         )\n\u001b[1;32m    694\u001b[0m     \u001b[39melse\u001b[39;00m:\n\u001b[0;32m--> 695\u001b[0m         mgr \u001b[39m=\u001b[39m ndarray_to_mgr(\n\u001b[1;32m    696\u001b[0m             data,\n\u001b[1;32m    697\u001b[0m             index,\n\u001b[1;32m    698\u001b[0m             columns,\n\u001b[1;32m    699\u001b[0m             dtype\u001b[39m=\u001b[39;49mdtype,\n\u001b[1;32m    700\u001b[0m             copy\u001b[39m=\u001b[39;49mcopy,\n\u001b[1;32m    701\u001b[0m             typ\u001b[39m=\u001b[39;49mmanager,\n\u001b[1;32m    702\u001b[0m         )\n\u001b[1;32m    704\u001b[0m \u001b[39m# For data is list-like, or Iterable (will consume into list)\u001b[39;00m\n\u001b[1;32m    705\u001b[0m \u001b[39melif\u001b[39;00m is_list_like(data):\n",
      "File \u001b[0;32m~/opt/anaconda3/lib/python3.9/site-packages/pandas/core/internals/construction.py:351\u001b[0m, in \u001b[0;36mndarray_to_mgr\u001b[0;34m(values, index, columns, dtype, copy, typ)\u001b[0m\n\u001b[1;32m    346\u001b[0m \u001b[39m# _prep_ndarray ensures that values.ndim == 2 at this point\u001b[39;00m\n\u001b[1;32m    347\u001b[0m index, columns \u001b[39m=\u001b[39m _get_axes(\n\u001b[1;32m    348\u001b[0m     values\u001b[39m.\u001b[39mshape[\u001b[39m0\u001b[39m], values\u001b[39m.\u001b[39mshape[\u001b[39m1\u001b[39m], index\u001b[39m=\u001b[39mindex, columns\u001b[39m=\u001b[39mcolumns\n\u001b[1;32m    349\u001b[0m )\n\u001b[0;32m--> 351\u001b[0m _check_values_indices_shape_match(values, index, columns)\n\u001b[1;32m    353\u001b[0m \u001b[39mif\u001b[39;00m typ \u001b[39m==\u001b[39m \u001b[39m\"\u001b[39m\u001b[39marray\u001b[39m\u001b[39m\"\u001b[39m:\n\u001b[1;32m    355\u001b[0m     \u001b[39mif\u001b[39;00m \u001b[39missubclass\u001b[39m(values\u001b[39m.\u001b[39mdtype\u001b[39m.\u001b[39mtype, \u001b[39mstr\u001b[39m):\n",
      "File \u001b[0;32m~/opt/anaconda3/lib/python3.9/site-packages/pandas/core/internals/construction.py:422\u001b[0m, in \u001b[0;36m_check_values_indices_shape_match\u001b[0;34m(values, index, columns)\u001b[0m\n\u001b[1;32m    420\u001b[0m passed \u001b[39m=\u001b[39m values\u001b[39m.\u001b[39mshape\n\u001b[1;32m    421\u001b[0m implied \u001b[39m=\u001b[39m (\u001b[39mlen\u001b[39m(index), \u001b[39mlen\u001b[39m(columns))\n\u001b[0;32m--> 422\u001b[0m \u001b[39mraise\u001b[39;00m \u001b[39mValueError\u001b[39;00m(\u001b[39mf\u001b[39m\u001b[39m\"\u001b[39m\u001b[39mShape of passed values is \u001b[39m\u001b[39m{\u001b[39;00mpassed\u001b[39m}\u001b[39;00m\u001b[39m, indices imply \u001b[39m\u001b[39m{\u001b[39;00mimplied\u001b[39m}\u001b[39;00m\u001b[39m\"\u001b[39m)\n",
      "\u001b[0;31mValueError\u001b[0m: Shape of passed values is (16, 8), indices imply (16, 3)"
     ]
    }
   ],
   "source": [
    "model.predict_quantile(4)"
   ]
  },
  {
   "cell_type": "code",
   "execution_count": 70,
   "metadata": {},
   "outputs": [],
   "source": [
    "model.output_quantial(week_ahead = 8)\n",
    "model_death.output_quantial(week_ahead = 20)\n",
    "model_hosps.output_quantial(week_ahead = 20)"
   ]
  },
  {
   "cell_type": "code",
   "execution_count": 2,
   "metadata": {},
   "outputs": [
    {
     "data": {
      "image/png": "[encoded data removed]",
      "text/plain": [
       "<Figure size 864x576 with 1 Axes>"
      ]
     },
     "metadata": {
      "needs_background": "light"
     },
     "output_type": "display_data"
    }
   ],
   "source": [
    "model.plot_val()"
   ]
  },
  {
   "cell_type": "code",
   "execution_count": 3,
   "metadata": {},
   "outputs": [
    {
     "data": {
      "text/plain": [
       "2022-07-31    6261.248535\n",
       "2022-08-07    5513.704590\n",
       "2022-08-14    5351.904297\n",
       "2022-08-21    5506.528809\n",
       "2022-08-28    5873.107910\n",
       "2022-09-04    6105.066895\n",
       "2022-09-11    6562.697266\n",
       "2022-09-18    6961.423340\n",
       "Freq: W-SUN, Name: pred, dtype: float64"
      ]
     },
     "execution_count": 3,
     "metadata": {},
     "output_type": "execute_result"
    }
   ],
   "source": [
    "model.validate(model.val_data)\n",
    "model.predict(week_ahead = 8)"
   ]
  }
 ],
 "metadata": {
  "kernelspec": {
   "display_name": "Python 3.9.12 ('base')",
   "language": "python",
   "name": "python3"
  },
  "language_info": {
   "codemirror_mode": {
    "name": "ipython",
    "version": 3
   },
   "file_extension": ".py",
   "mimetype": "text/x-python",
   "name": "python",
   "nbconvert_exporter": "python",
   "pygments_lexer": "ipython3",
   "version": "3.9.12"
  },
  "orig_nbformat": 4,
  "vscode": {
   "interpreter": {
    "hash": "4ac9036ed182ece6ef2726ddbdca12ece5ff93f7a9364fdc80b0ed046e896158"
   }
  }
 },
 "nbformat": 4,
 "nbformat_minor": 2
}
